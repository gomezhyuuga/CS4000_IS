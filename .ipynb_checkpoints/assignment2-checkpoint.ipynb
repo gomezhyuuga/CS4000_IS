{
 "cells": [
  {
   "cell_type": "code",
   "execution_count": 3,
   "metadata": {},
   "outputs": [],
   "source": [
    "from search import ( # Bases para construcciĂłn de problemas\n",
    "    Problem, Node, Graph, UndirectedGraph,\n",
    "    SimpleProblemSolvingAgentProgram,\n",
    "    GraphProblem\n",
    ")\n",
    "\n",
    "from search import ( # Algoritmos de bĂşsqueda no informada\n",
    "    tree_search, graph_search, best_first_graph_search,\n",
    "    breadth_first_tree_search, breadth_first_search,\n",
    "    depth_first_tree_search, depth_first_graph_search,\n",
    "    depth_limited_search, iterative_deepening_search,\n",
    "    uniform_cost_search,\n",
    "    compare_searchers\n",
    ")\n",
    "\n",
    "from search import ( # Algoritmos de bĂşsqueda informada (heurĂ­stica)\n",
    "    greedy_best_first_graph_search, astar_search\n",
    ")"
   ]
  },
  {
   "cell_type": "code",
   "execution_count": null,
   "metadata": {
    "collapsed": true
   },
   "outputs": [],
   "source": [
    "class BrokenCalc(Problem):\n",
    "    \"\"\"The abstract class for a formal problem.  You should subclass\n",
    "    this and implement the methods actions and result, and possibly\n",
    "    __init__, goal_test, and path_cost. Then you will create instances\n",
    "    of your subclass and solve them with the various search functions.\"\"\"\n",
    "    def __init__(self, initial=0, goal=0, operators=[\"+\", \"*\", \"AC\"], operands=[2, 3]):\n",
    "        Problem.__init__(self, initial, goal)\n",
    "        self.operands = operands\n",
    "        self.operators = operators\n",
    "        self.acum = 0\n",
    "        \n",
    "        self.ops = [(operand, operator) for operand in operands for operator in operators]\n",
    "\n",
    "    def actions(self, state):\n",
    "        \"\"\"Return the actions that can be executed in the given\n",
    "        state. The result would typically be a list, but if there are\n",
    "        many actions, consider yielding them one at a time in an\n",
    "        iterator, rather than building them all at once.\"\"\"\n",
    "        return self.ops\n",
    "\n",
    "    def result(self, state, action):\n",
    "        \"\"\"Return the state that results from executing the given\n",
    "        action in the given state. The action must be one of\n",
    "        self.actions(state).\"\"\"\n",
    "        funcs = {\n",
    "            '+': lambda x: state + x,\n",
    "            '*': lambda x: state * x,\n",
    "            '/': lambda x: state / x,\n",
    "            '-': lambda x: state - x,\n",
    "        }\n",
    "        return funcs[action[1]](action[0])\n",
    "\n",
    "#     def path_cost(self, c, state1, action, state2):\n",
    "#         \"\"\"Return the cost of a solution path that arrives at state2 from\n",
    "#         state1 via action, assuming cost c to get up to state1. If the problem\n",
    "#         is such that the path doesn't matter, this function will only look at\n",
    "#         state2.  If the path does matter, it will consider c and maybe state1\n",
    "#         and action. The default method costs 1 for every step in the path.\"\"\"\n",
    "#         return c + 1\n",
    "\n",
    "#     def value(self, state):\n",
    "#         \"\"\"For optimization problems, each state has a value.  Hill-climbing\n",
    "#         and related algorithms try to maximize this value.\"\"\"\n",
    "#         raise NotImplementedError"
   ]
  }
 ],
 "metadata": {
  "kernelspec": {
   "display_name": "Python 3",
   "language": "python",
   "name": "python3"
  },
  "language_info": {
   "codemirror_mode": {
    "name": "ipython",
    "version": 3
   },
   "file_extension": ".py",
   "mimetype": "text/x-python",
   "name": "python",
   "nbconvert_exporter": "python",
   "pygments_lexer": "ipython3",
   "version": "3.5.3"
  }
 },
 "nbformat": 4,
 "nbformat_minor": 2
}
