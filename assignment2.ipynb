{
 "cells": [
  {
   "cell_type": "code",
   "execution_count": 40,
   "metadata": {},
   "outputs": [],
   "source": [
    "from search import ( # Bases para construcción de problemas\n",
    "    Problem, Node, Graph, UndirectedGraph,\n",
    "    SimpleProblemSolvingAgentProgram,\n",
    "    GraphProblem\n",
    ")\n",
    "\n",
    "from search import ( # Algoritmos de búsqueda no informada\n",
    "    tree_search, graph_search, best_first_graph_search,\n",
    "    breadth_first_tree_search, breadth_first_search,\n",
    "    depth_first_tree_search, depth_first_graph_search,\n",
    "    depth_limited_search, iterative_deepening_search,\n",
    "    uniform_cost_search,\n",
    "    compare_searchers\n",
    ")\n",
    "\n",
    "from search import ( # Algoritmos de búsqueda informada (heurística)\n",
    "    greedy_best_first_graph_search, astar_search\n",
    ")\n",
    "\n",
    "from math import sqrt"
   ]
  },
  {
   "cell_type": "code",
   "execution_count": 48,
   "metadata": {},
   "outputs": [],
   "source": [
    "class BrokenCalc(Problem):\n",
    "    \"\"\"The abstract class for a formal problem.  You should subclass\n",
    "    this and implement the methods actions and result, and possibly\n",
    "    __init__, goal_test, and path_cost. Then you will create instances\n",
    "    of your subclass and solve them with the various search functions.\"\"\"\n",
    "    def __init__(self, initial = 0, goal=0, operators=[\"+\", \"*\"], operands=[2, 3]):\n",
    "        Problem.__init__(self, initial, goal)\n",
    "        self.operands = operands\n",
    "        self.operators = operators\n",
    "        \n",
    "        self.ops = [(operand, operator) for operand in operands for operator in operators]\n",
    "\n",
    "    def actions(self, state):\n",
    "        \"\"\"Return the actions that can be executed in the given\n",
    "        state. The result would typically be a list, but if there are\n",
    "        many actions, consider yielding them one at a time in an\n",
    "        iterator, rather than building them all at once.\"\"\"\n",
    "        available = list(self.ops)\n",
    "        \n",
    "        # Remove SQRT if the current state is a negative number\n",
    "        if state < 0:\n",
    "            available = list(filter(lambda x: x[1] != 'sqrt', available))\n",
    "        \n",
    "        return available\n",
    "\n",
    "    def result(self, state, action):\n",
    "        \"\"\"Return the state that results from executing the given\n",
    "        action in the given state. The action must be one of\n",
    "        self.actions(state).\"\"\"\n",
    "        funcs = {\n",
    "            '+': lambda x: state + x,\n",
    "            '*': lambda x: state * x,\n",
    "            '/': lambda x: state / x,\n",
    "            '-': lambda x: state - x,\n",
    "            'sqrt': lambda _: sqrt(state)\n",
    "        }\n",
    "        return funcs[action[1]](action[0])\n",
    "    def h(self, node):\n",
    "        \"Diferencia entre meta y estado actual\"\n",
    "        return abs(self.goal - node.state)\n",
    "\n",
    "#     def path_cost(self, c, state1, action, state2):\n",
    "#         \"\"\"Return the cost of a solution path that arrives at state2 from\n",
    "#         state1 via action, assuming cost c to get up to state1. If the problem\n",
    "#         is such that the path doesn't matter, this function will only look at\n",
    "#         state2.  If the path does matter, it will consider c and maybe state1\n",
    "#         and action. The default method costs 1 for every step in the path.\"\"\"\n",
    "#         return c + 1\n",
    "\n",
    "#     def value(self, state):\n",
    "#         \"\"\"For optimization problems, each state has a value.  Hill-climbing\n",
    "#         and related algorithms try to maximize this value.\"\"\"\n",
    "#         raise NotImplementedError"
   ]
  },
  {
   "cell_type": "markdown",
   "metadata": {},
   "source": [
    "# print_solution\n",
    "This method prints the solution to a problem. It just concatenates each action in the format `<OP> <N>` giving it as a result a string like:\n",
    "\n",
    "$$ 0 \\; OP_1 \\; N_1 \\; OP_2 \\; N_2 \\ldots = GOAL$$\n",
    "\n",
    "Where $OP_i \\in \\{ +, -, *, sqrt \\}$ and $N_i \\in \\mathbb{R}$"
   ]
  },
  {
   "cell_type": "code",
   "execution_count": 83,
   "metadata": {},
   "outputs": [],
   "source": [
    "def print_solution(problem, goal):\n",
    "    path = goal.solution()\n",
    "    print(\"0\", end = '')\n",
    "    ops = \"\".join(map(lambda action: \" {} {}\".format(action[1], action[0]), path))\n",
    "    print(ops, end = '')\n",
    "    *_, res = goal.path()\n",
    "    print(\" = %s\"  % res.state)\n",
    "    print(\" ==> COST: %d\" % goal.path_cost)"
   ]
  },
  {
   "cell_type": "code",
   "execution_count": 84,
   "metadata": {},
   "outputs": [
    {
     "name": "stdout",
     "output_type": "stream",
     "text": [
      "PROBLEM actions: [(2, '+'), (2, '*'), (3, '+'), (3, '*')]\n",
      "SOLUTION: [(2, '+'), (3, '+'), (2, '*'), (2, '*')]\n",
      "PATH: [<Node 0>, <Node 2>, <Node 5>, <Node 10>, <Node 20>]\n",
      "0 + 2 + 3 * 2 * 2 = 20\n",
      " ==> COST: 4\n"
     ]
    }
   ],
   "source": [
    "p1 = BrokenCalc(goal = 20, operators=[\"+\", \"*\"], operands=[2, 3])\n",
    "goal1 = breadth_first_search(p1)\n",
    "print(\"PROBLEM actions: %s\" % p1.ops)\n",
    "print(\"SOLUTION: %s\" % goal1.solution())\n",
    "print(\"PATH: %s\" % goal1.path())\n",
    "\n",
    "print_solution(p1, goal1)"
   ]
  },
  {
   "cell_type": "code",
   "execution_count": 85,
   "metadata": {},
   "outputs": [],
   "source": [
    "level_1_nums = [2, 3]\n",
    "level_3_nums = [1, 6, 8]\n",
    "\n",
    "level_1_operators = [\"+\", \"*\"]\n",
    "level_3_operators = [\"-\", \"sqrt\"]\n",
    "\n",
    "level_1_goals = [6, 7, 8, 10, 12, 15, 20, 50]\n",
    "level_3_goals = [-5, 3, 5, 13, 20, 33, 82, 100]"
   ]
  },
  {
   "cell_type": "markdown",
   "metadata": {},
   "source": [
    "# Level 1 solutions\n",
    "The following code solves all the numbers given in the assignment description for Level 1\n",
    "\n",
    "## BFS"
   ]
  },
  {
   "cell_type": "code",
   "execution_count": 86,
   "metadata": {},
   "outputs": [
    {
     "name": "stdout",
     "output_type": "stream",
     "text": [
      "Solving for 6\n",
      "0 + 2 * 3 = 6\n",
      " ==> COST: 2\n",
      "Solving for 7\n",
      "0 + 2 + 2 + 3 = 7\n",
      " ==> COST: 3\n",
      "Solving for 8\n",
      "0 + 2 + 2 * 2 = 8\n",
      " ==> COST: 3\n",
      "Solving for 10\n",
      "0 + 2 + 3 * 2 = 10\n",
      " ==> COST: 3\n",
      "Solving for 12\n",
      "0 + 2 + 2 * 3 = 12\n",
      " ==> COST: 3\n",
      "Solving for 15\n",
      "0 + 2 + 3 * 3 = 15\n",
      " ==> COST: 3\n",
      "Solving for 20\n",
      "0 + 2 + 3 * 2 * 2 = 20\n",
      " ==> COST: 4\n",
      "Solving for 50\n",
      "0 + 2 + 2 * 2 * 2 * 3 + 2 = 50\n",
      " ==> COST: 6\n"
     ]
    }
   ],
   "source": [
    "for g in level_1_goals:\n",
    "    p = BrokenCalc(goal = g, operators = level_1_operators, operands = level_1_nums)\n",
    "    print(\"Solving for %s\" % g)\n",
    "    goal = breadth_first_search(p)\n",
    "    print_solution(p, goal)"
   ]
  },
  {
   "cell_type": "markdown",
   "metadata": {},
   "source": [
    "## Uniform Cost Search"
   ]
  },
  {
   "cell_type": "code",
   "execution_count": 88,
   "metadata": {},
   "outputs": [
    {
     "name": "stdout",
     "output_type": "stream",
     "text": [
      "Solving for 6\n",
      "0 + 2 * 3 = 6\n",
      " ==> COST: 2\n",
      "Solving for 7\n",
      "0 + 2 + 2 + 3 = 7\n",
      " ==> COST: 3\n",
      "Solving for 8\n",
      "0 + 2 + 2 * 2 = 8\n",
      " ==> COST: 3\n",
      "Solving for 10\n",
      "0 + 2 + 3 * 2 = 10\n",
      " ==> COST: 3\n",
      "Solving for 12\n",
      "0 + 2 + 2 * 3 = 12\n",
      " ==> COST: 3\n",
      "Solving for 15\n",
      "0 + 2 + 3 * 3 = 15\n",
      " ==> COST: 3\n",
      "Solving for 20\n",
      "0 + 2 + 3 * 2 * 2 = 20\n",
      " ==> COST: 4\n",
      "Solving for 50\n",
      "0 + 3 * 3 + 2 * 2 + 3 * 2 = 50\n",
      " ==> COST: 6\n"
     ]
    }
   ],
   "source": [
    "for g in level_1_goals:\n",
    "    p = BrokenCalc(goal = g, operators = level_1_operators, operands = level_1_nums)\n",
    "    print(\"Solving for %s\" % g)\n",
    "    goal = uniform_cost_search(p)\n",
    "    print_solution(p, goal)"
   ]
  },
  {
   "cell_type": "code",
   "execution_count": null,
   "metadata": {
    "collapsed": true
   },
   "outputs": [],
   "source": []
  },
  {
   "cell_type": "code",
   "execution_count": null,
   "metadata": {
    "collapsed": true
   },
   "outputs": [],
   "source": [
    "for g in level_1_goals:\n",
    "    p = BrokenCalc(goal = g, operators = level_1_operators, operands = level_1_nums)\n",
    "    print(\"Solving for %s\" % g)\n",
    "    goal = depth_limited_search(p)\n",
    "    print_solution(p, goal)\n"
   ]
  },
  {
   "cell_type": "markdown",
   "metadata": {},
   "source": [
    "## A* search"
   ]
  },
  {
   "cell_type": "code",
   "execution_count": 87,
   "metadata": {},
   "outputs": [
    {
     "name": "stdout",
     "output_type": "stream",
     "text": [
      "Solving for 6\n",
      "0 + 3 * 2 = 6\n",
      " ==> COST: 2\n",
      "Solving for 7\n",
      "0 + 3 + 2 + 2 = 7\n",
      " ==> COST: 3\n",
      "Solving for 8\n",
      "0 + 3 * 2 + 2 = 8\n",
      " ==> COST: 3\n",
      "Solving for 10\n",
      "0 + 3 * 2 + 2 + 2 = 10\n",
      " ==> COST: 4\n",
      "Solving for 12\n",
      "0 + 3 * 3 + 3 = 12\n",
      " ==> COST: 3\n",
      "Solving for 15\n",
      "0 + 3 * 3 + 3 + 3 = 15\n",
      " ==> COST: 4\n",
      "Solving for 20\n",
      "0 + 3 * 3 * 2 + 2 = 20\n",
      " ==> COST: 4\n",
      "Solving for 50\n",
      "0 + 3 * 3 * 3 + 3 + 3 + 3 + 3 + 3 + 3 + 3 + 2 = 50\n",
      " ==> COST: 11\n"
     ]
    }
   ],
   "source": [
    "for g in level_1_goals:\n",
    "    p = BrokenCalc(goal = g, operators = level_1_operators, operands = level_1_nums)\n",
    "    print(\"Solving for %s\" % g)\n",
    "    goal = astar_search(p)\n",
    "    print_solution(p, goal)"
   ]
  },
  {
   "cell_type": "code",
   "execution_count": null,
   "metadata": {
    "collapsed": true
   },
   "outputs": [],
   "source": []
  }
 ],
 "metadata": {
  "kernelspec": {
   "display_name": "Python 3",
   "language": "python",
   "name": "python3"
  },
  "language_info": {
   "codemirror_mode": {
    "name": "ipython",
    "version": 3
   },
   "file_extension": ".py",
   "mimetype": "text/x-python",
   "name": "python",
   "nbconvert_exporter": "python",
   "pygments_lexer": "ipython3",
   "version": "3.5.3"
  }
 },
 "nbformat": 4,
 "nbformat_minor": 2
}
