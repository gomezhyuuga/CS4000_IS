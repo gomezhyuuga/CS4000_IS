{
 "cells": [
  {
   "cell_type": "code",
   "execution_count": 148,
   "metadata": {
    "collapsed": true
   },
   "outputs": [],
   "source": [
    "from search import ( # Bases para construcción de problemas\n",
    "    Problem, Node, Graph, UndirectedGraph,\n",
    "    SimpleProblemSolvingAgentProgram,\n",
    "    GraphProblem\n",
    ")\n",
    "\n",
    "from search import ( # Algoritmos de búsqueda no informada\n",
    "    tree_search, graph_search, best_first_graph_search,\n",
    "    breadth_first_tree_search, breadth_first_search,\n",
    "    recursive_best_first_search,\n",
    "    depth_first_tree_search, depth_first_graph_search,\n",
    "    depth_limited_search, iterative_deepening_search,\n",
    "    uniform_cost_search,\n",
    "    compare_searchers\n",
    ")\n",
    "\n",
    "from search import ( # Algoritmos de búsqueda informada (heurística)\n",
    "    greedy_best_first_graph_search, astar_search\n",
    ")\n",
    "\n",
    "from math import sqrt\n",
    "import statistics"
   ]
  },
  {
   "cell_type": "code",
   "execution_count": 139,
   "metadata": {},
   "outputs": [],
   "source": [
    "class BrokenCalc(Problem):\n",
    "    \"\"\"The abstract class for a formal problem.  You should subclass\n",
    "    this and implement the methods actions and result, and possibly\n",
    "    __init__, goal_test, and path_cost. Then you will create instances\n",
    "    of your subclass and solve them with the various search functions.\"\"\"\n",
    "    def __init__(self, initial = 0, goal=0, operators=[\"+\", \"*\"], operands=[2, 3]):\n",
    "        Problem.__init__(self, initial, goal)\n",
    "        self.operands = operands\n",
    "        self.operators = operators\n",
    "        \n",
    "        self.ops = [(operand, operator) for operand in operands for operator in operators]\n",
    "        self.ops = self.ops + [(operand, 'press') for operand in operands]\n",
    "\n",
    "    def actions(self, state):\n",
    "        \"\"\"Return the actions that can be executed in the given\n",
    "        state. The result would typically be a list, but if there are\n",
    "        many actions, consider yielding them one at a time in an\n",
    "        iterator, rather than building them all at once.\"\"\"\n",
    "        available = list(self.ops)\n",
    "        \n",
    "        # Remove SQRT if the current state is a negative number\n",
    "        if state < 0:\n",
    "            available = list(filter(lambda x: x[1] != 'sqrt', available))\n",
    "        \n",
    "        return available\n",
    "\n",
    "    def result(self, state, action):\n",
    "        \"\"\"Return the state that results from executing the given\n",
    "        action in the given state. The action must be one of\n",
    "        self.actions(state).\"\"\"\n",
    "        funcs = {\n",
    "            '+': lambda x: state + x,\n",
    "            '*': lambda x: state * x,\n",
    "            '/': lambda x: state / x,\n",
    "            '-': lambda x: state - x,\n",
    "            'sqrt': lambda _: sqrt(state),\n",
    "            'press': lambda x: (state * 10) + x\n",
    "        }\n",
    "        return funcs[action[1]](action[0])\n",
    "    def h(self, node):\n",
    "        \"Diferencia entre meta y estado actual\"\n",
    "        return abs(self.goal - node.state)\n",
    "    def h2(self, node):\n",
    "        if node.state != 0:\n",
    "            return (self.goal % node.action[0]) + node.action[0]\n",
    "        else:\n",
    "            return 0\n",
    "\n",
    "#     def path_cost(self, c, state1, action, state2):\n",
    "#         \"\"\"Return the cost of a solution path that arrives at state2 from\n",
    "#         state1 via action, assuming cost c to get up to state1. If the problem\n",
    "#         is such that the path doesn't matter, this function will only look at\n",
    "#         state2.  If the path does matter, it will consider c and maybe state1\n",
    "#         and action. The default method costs 1 for every step in the path.\"\"\"\n",
    "#         return c + 1\n",
    "\n",
    "#     def value(self, state):\n",
    "#         \"\"\"For optimization problems, each state has a value.  Hill-climbing\n",
    "#         and related algorithms try to maximize this value.\"\"\"\n",
    "#         raise NotImplementedError"
   ]
  },
  {
   "cell_type": "markdown",
   "metadata": {},
   "source": [
    "# print_solution\n",
    "This method prints the solution to a problem. It just concatenates each action in the format `<OP> <N>` giving it as a result a string like:\n",
    "\n",
    "$$ 0 \\; OP_1 \\; N_1 \\; OP_2 \\; N_2 \\ldots = GOAL$$\n",
    "\n",
    "Where $OP_i \\in \\{ +, -, *, sqrt \\}$ and $N_i \\in \\mathbb{R}$"
   ]
  },
  {
   "cell_type": "code",
   "execution_count": 140,
   "metadata": {
    "collapsed": true
   },
   "outputs": [],
   "source": [
    "def print_solution(problem, goal):\n",
    "    path = goal.solution()\n",
    "    print(\"0\", end = '')\n",
    "    ops = \"\".join(map(lambda action: \" {} {}\".format(action[1], action[0]), path))\n",
    "    print(ops, end = '')\n",
    "    *_, res = goal.path()\n",
    "    print(\" = %s\"  % res.state)\n",
    "#     print(\" ==> COST: %d\" % goal.path_cost)"
   ]
  },
  {
   "cell_type": "code",
   "execution_count": 141,
   "metadata": {},
   "outputs": [
    {
     "name": "stdout",
     "output_type": "stream",
     "text": [
      "PROBLEM actions: [(2, '+'), (2, '*'), (3, '+'), (3, '*'), (2, 'press'), (3, 'press')]\n",
      "SOLUTION: [(2, '+'), (3, '+'), (2, '*'), (2, '*')]\n",
      "PATH: [<Node 0>, <Node 2>, <Node 5>, <Node 10>, <Node 20>]\n",
      "0 + 2 + 3 * 2 * 2 = 20\n"
     ]
    }
   ],
   "source": [
    "p1 = BrokenCalc(goal = 20, operators=[\"+\", \"*\"], operands=[2, 3])\n",
    "goal1 = breadth_first_search(p1)\n",
    "print(\"PROBLEM actions: %s\" % p1.ops)\n",
    "print(\"SOLUTION: %s\" % goal1.solution())\n",
    "print(\"PATH: %s\" % goal1.path())\n",
    "\n",
    "print_solution(p1, goal1)"
   ]
  },
  {
   "cell_type": "code",
   "execution_count": 142,
   "metadata": {
    "collapsed": true
   },
   "outputs": [],
   "source": [
    "level_1_nums = [2, 3]\n",
    "level_3_nums = [1, 6, 8]\n",
    "\n",
    "level_1_operators = [\"+\", \"*\"]\n",
    "level_3_operators = [\"-\", \"sqrt\"]\n",
    "\n",
    "level_1_goals = [6, 7, 8, 10, 12, 15, 20, 50]\n",
    "level_3_goals = [-5, 3, 5, 13, 20, 33, 82, 100]"
   ]
  },
  {
   "cell_type": "markdown",
   "metadata": {},
   "source": [
    "# Level 1 solutions\n",
    "__5) Execute the blind and heuristic search methods (with the 2 heuristics) to solve the selected level for 3 numbers that can be calculated and 3 numbers that cannot, and show\n",
    "the solutions found by each method.__\n",
    "\n",
    "The following code solves all the numbers given in the assignment description for Level 1. \n",
    "\n",
    "## BFS"
   ]
  },
  {
   "cell_type": "code",
   "execution_count": 143,
   "metadata": {
    "scrolled": true
   },
   "outputs": [
    {
     "name": "stdout",
     "output_type": "stream",
     "text": [
      "The following numbers can be calculated: [6, 7, 8, 10, 12, 15, 20, 50]\n",
      "Solving for 6\n",
      "0 + 2 * 3 = 6\n",
      "Solving for 7\n",
      "0 + 2 + 2 + 3 = 7\n",
      "Solving for 8\n",
      "0 + 2 + 2 * 2 = 8\n",
      "Solving for 10\n",
      "0 + 2 + 3 * 2 = 10\n",
      "Solving for 12\n",
      "0 + 2 + 2 * 3 = 12\n",
      "Solving for 15\n",
      "0 + 2 + 3 * 3 = 15\n",
      "Solving for 20\n",
      "0 + 2 + 3 * 2 * 2 = 20\n",
      "Solving for 50\n",
      "0 + 2 press 2 + 3 * 2 = 50\n",
      "COSTS: [2, 3, 3, 3, 3, 3, 4, 4] | AVG: 3.125000\n"
     ]
    }
   ],
   "source": [
    "print(\"The following numbers can be calculated: %s\" % level_1_goals )\n",
    "costs = []\n",
    "for g in level_1_goals:\n",
    "    p = BrokenCalc(goal = g, operators = level_1_operators, operands = level_1_nums)\n",
    "    print(\"Solving for %s\" % g)\n",
    "    goal = breadth_first_search(p)\n",
    "    print_solution(p, goal)\n",
    "    costs.append(goal.path_cost)\n",
    "print(\"COSTS: %s | AVG: %f\" % (costs, statistics.mean(costs)))"
   ]
  },
  {
   "cell_type": "markdown",
   "metadata": {},
   "source": [
    "## DFS"
   ]
  },
  {
   "cell_type": "code",
   "execution_count": 146,
   "metadata": {},
   "outputs": [
    {
     "name": "stdout",
     "output_type": "stream",
     "text": [
      "The following numbers can be calculated: [6, 7, 8, 10, 12, 15, 20, 50]\n",
      "Solving for 6\n",
      "GOALS\n",
      "0 + 2 + 2 + 2 = 6\n",
      "Solving for 7\n",
      "GOALS\n",
      "0 + 2 + 2 + 3 = 7\n",
      "Solving for 8\n",
      "GOALS\n",
      "0 + 2 + 2 + 2 + 2 = 8\n",
      "Solving for 10\n",
      "GOALS\n",
      "0 + 2 + 2 + 2 + 2 + 2 = 10\n",
      "Solving for 12\n",
      "GOALS\n",
      "0 + 2 + 2 + 2 + 2 + 2 + 2 = 12\n",
      "Solving for 15\n",
      "GOALS\n",
      "0 + 2 + 2 + 2 + 2 + 2 + 2 + 3 = 15\n",
      "Solving for 20\n",
      "GOALS\n",
      "0 + 2 + 2 + 2 + 2 + 2 + 2 + 2 + 2 + 2 + 2 = 20\n",
      "Solving for 50\n",
      "GOALS\n",
      "0 + 2 + 2 + 2 + 2 + 2 + 2 + 2 + 2 * 3 + 2 = 50\n",
      "COSTS: [3, 3, 4, 5, 6, 7, 10, 10] | AVG: 6.000000\n"
     ]
    }
   ],
   "source": [
    "print(\"The following numbers can be calculated: %s\" % level_1_goals )\n",
    "costs = []\n",
    "for g in level_1_goals:\n",
    "    p = BrokenCalc(goal = g, operators = level_1_operators, operands = level_1_nums)\n",
    "    print(\"Solving for %s\" % g)\n",
    "    goal = depth_limited_search(p, limit = 10)\n",
    "    print(\"GOALS\")\n",
    "    print_solution(p, goal)\n",
    "    costs.append(goal.path_cost)\n",
    "print(\"COSTS: %s | AVG: %f\" % (costs, statistics.mean(costs)))"
   ]
  },
  {
   "cell_type": "markdown",
   "metadata": {},
   "source": [
    "## Uniform Cost Search"
   ]
  },
  {
   "cell_type": "code",
   "execution_count": 116,
   "metadata": {},
   "outputs": [
    {
     "name": "stdout",
     "output_type": "stream",
     "text": [
      "Solving for 6\n",
      "0 + 2 * 3 = 6\n",
      "Solving for 7\n",
      "0 + 2 + 2 + 3 = 7\n",
      "Solving for 8\n",
      "0 + 2 + 2 * 2 = 8\n",
      "Solving for 10\n",
      "0 + 2 + 3 * 2 = 10\n",
      "Solving for 12\n",
      "0 + 2 + 2 * 3 = 12\n",
      "Solving for 15\n",
      "0 + 2 + 3 * 3 = 15\n",
      "Solving for 20\n",
      "0 + 2 + 3 * 2 * 2 = 20\n",
      "Solving for 50\n",
      "0 + 2 press 2 + 3 * 2 = 50\n",
      "COSTS: [2, 3, 3, 3, 3, 3, 4, 4] | AVG: 3.125000\n"
     ]
    }
   ],
   "source": [
    "costs = []\n",
    "for g in level_1_goals:\n",
    "    p = BrokenCalc(goal = g, operators = level_1_operators, operands = level_1_nums)\n",
    "    print(\"Solving for %s\" % g)\n",
    "    goal = uniform_cost_search(p)\n",
    "    print_solution(p, goal)\n",
    "    costs.append(goal.path_cost)\n",
    "print(\"COSTS: %s | AVG: %f\" % (costs, statistics.mean(costs)))"
   ]
  },
  {
   "cell_type": "markdown",
   "metadata": {},
   "source": [
    "## Iterative Deepening Search"
   ]
  },
  {
   "cell_type": "code",
   "execution_count": 117,
   "metadata": {},
   "outputs": [
    {
     "name": "stdout",
     "output_type": "stream",
     "text": [
      "Solving for 6\n",
      "0 + 2 * 3 = 6\n",
      "Solving for 7\n",
      "0 + 2 + 2 + 3 = 7\n",
      "Solving for 8\n",
      "0 + 2 + 2 * 2 = 8\n",
      "Solving for 10\n",
      "0 + 2 + 3 * 2 = 10\n",
      "Solving for 12\n",
      "0 + 2 + 2 * 3 = 12\n",
      "Solving for 15\n",
      "0 + 2 + 3 * 3 = 15\n",
      "Solving for 20\n",
      "0 + 2 + 3 * 2 * 2 = 20\n",
      "Solving for 50\n",
      "0 + 2 press 2 + 3 * 2 = 50\n",
      "COSTS: [2, 3, 3, 3, 3, 3, 4, 4] | AVG: 3.125000\n"
     ]
    }
   ],
   "source": [
    "costs = []\n",
    "for g in level_1_goals:\n",
    "    p = BrokenCalc(goal = g, operators = level_1_operators, operands = level_1_nums)\n",
    "    print(\"Solving for %s\" % g)\n",
    "    goal = iterative_deepening_search(p)\n",
    "    print_solution(p, goal)\n",
    "    costs.append(goal.path_cost)\n",
    "print(\"COSTS: %s | AVG: %f\" % (costs, statistics.mean(costs)))"
   ]
  },
  {
   "cell_type": "markdown",
   "metadata": {},
   "source": [
    "## A* search using h"
   ]
  },
  {
   "cell_type": "code",
   "execution_count": 118,
   "metadata": {},
   "outputs": [
    {
     "name": "stdout",
     "output_type": "stream",
     "text": [
      "Solving for 6\n",
      "0 + 3 * 2 = 6\n",
      "Solving for 7\n",
      "0 + 3 + 2 + 2 = 7\n",
      "Solving for 8\n",
      "0 + 3 * 2 + 2 = 8\n",
      "Solving for 10\n",
      "0 + 3 * 2 + 2 + 2 = 10\n",
      "Solving for 12\n",
      "0 + 3 * 3 + 3 = 12\n",
      "Solving for 15\n",
      "0 + 3 * 3 + 3 + 3 = 15\n",
      "Solving for 20\n",
      "0 + 3 * 3 * 2 + 2 = 20\n",
      "Solving for 50\n",
      "0 + 3 press 3 + 3 + 3 + 3 + 3 + 3 + 2 = 50\n",
      "COSTS: [2, 3, 3, 4, 3, 4, 4, 8] | AVG: 3.875000\n"
     ]
    }
   ],
   "source": [
    "costs = []\n",
    "for g in level_1_goals:\n",
    "    p = BrokenCalc(goal = g, operators = level_1_operators, operands = level_1_nums)\n",
    "    print(\"Solving for %s\" % g)\n",
    "    goal = astar_search(p)\n",
    "    print_solution(p, goal)\n",
    "    costs.append(goal.path_cost)\n",
    "print(\"COSTS: %s | AVG: %f\" % (costs, statistics.mean(costs)))"
   ]
  },
  {
   "cell_type": "markdown",
   "metadata": {},
   "source": [
    "## A* search using h2"
   ]
  },
  {
   "cell_type": "code",
   "execution_count": 120,
   "metadata": {},
   "outputs": [
    {
     "name": "stdout",
     "output_type": "stream",
     "text": [
      "Solving for 6\n",
      "0 + 3 * 2 = 6\n",
      "Solving for 7\n",
      "0 + 3 + 2 + 2 = 7\n",
      "Solving for 8\n",
      "0 + 2 + 2 * 2 = 8\n",
      "Solving for 10\n",
      "0 + 3 + 2 * 2 = 10\n",
      "Solving for 12\n",
      "0 + 3 * 2 * 2 = 12\n",
      "Solving for 15\n",
      "0 + 2 + 3 * 3 = 15\n",
      "Solving for 20\n",
      "0 + 3 + 2 * 2 * 2 = 20\n",
      "Solving for 50\n",
      "0 + 2 press 3 + 2 * 2 = 50\n",
      "COSTS: [2, 3, 3, 3, 3, 3, 4, 4] | AVG: 3.125000\n"
     ]
    }
   ],
   "source": [
    "costs = []\n",
    "for g in level_1_goals:\n",
    "    p = BrokenCalc(goal = g, operators = level_1_operators, operands = level_1_nums)\n",
    "    print(\"Solving for %s\" % g)\n",
    "    goal = astar_search(p, p.h2)\n",
    "    print_solution(p, goal)\n",
    "    costs.append(goal.path_cost)\n",
    "print(\"COSTS: %s | AVG: %f\" % (costs, statistics.mean(costs)))"
   ]
  },
  {
   "cell_type": "code",
   "execution_count": 121,
   "metadata": {},
   "outputs": [
    {
     "name": "stdout",
     "output_type": "stream",
     "text": [
      "Solving for -5\n",
      "0 press 1 - 6 = -5\n",
      "Solving for 3\n",
      "0 press 1 press 1 - 8 = 3\n",
      "Solving for 5\n",
      "0 press 6 - 1 = 5\n",
      "Solving for 13\n",
      "0 press 8 - 6 press 1 - 8 = 13\n",
      "Solving for 20\n",
      "0 press 8 - 6 press 1 - 1 = 20\n",
      "Solving for 33\n",
      "0 press 1 press 6 sqrt 1 press 1 - 8 = 33.0\n",
      "Solving for 82\n",
      "0 press 8 press 8 - 6 = 82\n",
      "Solving for 100\n",
      "0 press 1 press 1 - 1 press 1 - 1 = 100\n",
      "COSTS: [2, 3, 2, 4, 4, 5, 3, 5] | AVG: 3.500000\n"
     ]
    }
   ],
   "source": [
    "# LEVEL 3\n",
    "costs = []\n",
    "for g in level_3_goals:\n",
    "    p = BrokenCalc(goal = g, operators = level_3_operators, operands = level_3_nums)\n",
    "    print(\"Solving for %s\" % g)\n",
    "    goal = breadth_first_search(p)\n",
    "    print_solution(p, goal)\n",
    "    costs.append(goal.path_cost)\n",
    "print(\"COSTS: %s | AVG: %f\" % (costs, statistics.mean(costs)))"
   ]
  },
  {
   "cell_type": "code",
   "execution_count": 149,
   "metadata": {},
   "outputs": [
    {
     "name": "stdout",
     "output_type": "stream",
     "text": [
      "Solving for 6\n",
      "0 + 2 + 2 + 2 = 6\n",
      "Solving for 7\n",
      "0 + 2 + 2 + 3 = 7\n",
      "Solving for 8\n",
      "0 + 2 + 2 + 2 + 2 = 8\n",
      "Solving for 10\n",
      "0 + 2 + 2 + 2 + 2 + 2 = 10\n",
      "Solving for 12\n",
      "0 + 2 + 2 + 2 + 2 + 2 + 2 = 12\n",
      "Solving for 15\n",
      "0 + 2 + 2 + 2 + 2 + 2 + 2 + 3 = 15\n",
      "Solving for 20\n",
      "0 + 2 + 2 + 2 + 2 + 2 + 2 + 2 + 2 + 2 + 2 = 20\n",
      "Solving for 50\n",
      "0 + 2 + 2 + 2 + 2 + 2 + 2 + 2 + 2 + 2 + 2 + 2 + 2 + 2 + 2 + 2 + 2 + 2 + 2 + 2 + 2 + 2 + 2 + 2 + 2 + 2 = 50\n",
      "COSTS: [3, 3, 4, 5, 6, 7, 10, 25] | AVG: 7.875000\n"
     ]
    }
   ],
   "source": [
    "costs = []\n",
    "for g in level_1_goals:\n",
    "    p = BrokenCalc(goal = g, operators = level_1_operators, operands = level_1_nums)\n",
    "    print(\"Solving for %s\" % g)\n",
    "    goal = recursive_best_first_search(p)\n",
    "    print_solution(p, goal)\n",
    "    costs.append(goal.path_cost)\n",
    "print(\"COSTS: %s | AVG: %f\" % (costs, statistics.mean(costs)))"
   ]
  },
  {
   "cell_type": "markdown",
   "metadata": {},
   "source": [
    "## Numbers unable to find"
   ]
  },
  {
   "cell_type": "code",
   "execution_count": 166,
   "metadata": {},
   "outputs": [
    {
     "name": "stdout",
     "output_type": "stream",
     "text": [
      "The following numbers cannot be calculated: [-10, -20, -1]\n",
      "Solving for -10\n"
     ]
    },
    {
     "ename": "StatisticsError",
     "evalue": "mean requires at least one data point",
     "output_type": "error",
     "traceback": [
      "\u001b[0;31m---------------------------------------------------------------------------\u001b[0m",
      "\u001b[0;31mStatisticsError\u001b[0m                           Traceback (most recent call last)",
      "\u001b[0;32m<ipython-input-166-f75de94ef79d>\u001b[0m in \u001b[0;36m<module>\u001b[0;34m()\u001b[0m\n\u001b[1;32m     12\u001b[0m     \u001b[0mprint_solution\u001b[0m\u001b[0;34m(\u001b[0m\u001b[0mp\u001b[0m\u001b[0;34m,\u001b[0m \u001b[0mgoal\u001b[0m\u001b[0;34m)\u001b[0m\u001b[0;34m\u001b[0m\u001b[0m\n\u001b[1;32m     13\u001b[0m     \u001b[0mcosts\u001b[0m\u001b[0;34m.\u001b[0m\u001b[0mappend\u001b[0m\u001b[0;34m(\u001b[0m\u001b[0mgoal\u001b[0m\u001b[0;34m.\u001b[0m\u001b[0mpath_cost\u001b[0m\u001b[0;34m)\u001b[0m\u001b[0;34m\u001b[0m\u001b[0m\n\u001b[0;32m---> 14\u001b[0;31m \u001b[0mprint\u001b[0m\u001b[0;34m(\u001b[0m\u001b[0;34m\"COSTS: %s | AVG: %f\"\u001b[0m \u001b[0;34m%\u001b[0m \u001b[0;34m(\u001b[0m\u001b[0mcosts\u001b[0m\u001b[0;34m,\u001b[0m \u001b[0mstatistics\u001b[0m\u001b[0;34m.\u001b[0m\u001b[0mmean\u001b[0m\u001b[0;34m(\u001b[0m\u001b[0mcosts\u001b[0m\u001b[0;34m)\u001b[0m\u001b[0;34m)\u001b[0m\u001b[0;34m)\u001b[0m\u001b[0;34m\u001b[0m\u001b[0m\n\u001b[0m",
      "\u001b[0;32m/Users/gomezhyuuga/anaconda/envs/is/lib/python3.5/statistics.py\u001b[0m in \u001b[0;36mmean\u001b[0;34m(data)\u001b[0m\n\u001b[1;32m    328\u001b[0m     \u001b[0mn\u001b[0m \u001b[0;34m=\u001b[0m \u001b[0mlen\u001b[0m\u001b[0;34m(\u001b[0m\u001b[0mdata\u001b[0m\u001b[0;34m)\u001b[0m\u001b[0;34m\u001b[0m\u001b[0m\n\u001b[1;32m    329\u001b[0m     \u001b[0;32mif\u001b[0m \u001b[0mn\u001b[0m \u001b[0;34m<\u001b[0m \u001b[0;36m1\u001b[0m\u001b[0;34m:\u001b[0m\u001b[0;34m\u001b[0m\u001b[0m\n\u001b[0;32m--> 330\u001b[0;31m         \u001b[0;32mraise\u001b[0m \u001b[0mStatisticsError\u001b[0m\u001b[0;34m(\u001b[0m\u001b[0;34m'mean requires at least one data point'\u001b[0m\u001b[0;34m)\u001b[0m\u001b[0;34m\u001b[0m\u001b[0m\n\u001b[0m\u001b[1;32m    331\u001b[0m     \u001b[0mT\u001b[0m\u001b[0;34m,\u001b[0m \u001b[0mtotal\u001b[0m\u001b[0;34m,\u001b[0m \u001b[0mcount\u001b[0m \u001b[0;34m=\u001b[0m \u001b[0m_sum\u001b[0m\u001b[0;34m(\u001b[0m\u001b[0mdata\u001b[0m\u001b[0;34m)\u001b[0m\u001b[0;34m\u001b[0m\u001b[0m\n\u001b[1;32m    332\u001b[0m     \u001b[0;32massert\u001b[0m \u001b[0mcount\u001b[0m \u001b[0;34m==\u001b[0m \u001b[0mn\u001b[0m\u001b[0;34m\u001b[0m\u001b[0m\n",
      "\u001b[0;31mStatisticsError\u001b[0m: mean requires at least one data point"
     ]
    }
   ],
   "source": [
    "impossible_goals = [-10, -20, -1]\n",
    "print(\"The following numbers cannot be calculated: %s\" % impossible_goals)\n",
    "costs = []\n",
    "for g in impossible_goals:\n",
    "    p = BrokenCalc(goal = g, operators = level_1_operators, operands = level_1_nums)\n",
    "    print(\"Solving for %s\" % g)\n",
    "    goal = depth_limited_search(p, limit = 6)\n",
    "    if not goal or type(goal) == 'str':\n",
    "        print(\"NOT FOUND\")\n",
    "        break\n",
    "    print_solution(p, goal)\n",
    "    costs.append(goal.path_cost)\n",
    "print(\"COSTS: %s | AVG: %f\" % (costs, statistics.mean(costs)))"
   ]
  },
  {
   "cell_type": "code",
   "execution_count": null,
   "metadata": {
    "collapsed": true
   },
   "outputs": [],
   "source": []
  }
 ],
 "metadata": {
  "kernelspec": {
   "display_name": "Python 3",
   "language": "python",
   "name": "python3"
  },
  "language_info": {
   "codemirror_mode": {
    "name": "ipython",
    "version": 3
   },
   "file_extension": ".py",
   "mimetype": "text/x-python",
   "name": "python",
   "nbconvert_exporter": "python",
   "pygments_lexer": "ipython3",
   "version": "3.5.3"
  }
 },
 "nbformat": 4,
 "nbformat_minor": 2
}
